{
 "cells": [
  {
   "cell_type": "markdown",
   "id": "5bc9be56",
   "metadata": {},
   "source": [
    "## Sentiment Analysis"
   ]
  },
  {
   "cell_type": "markdown",
   "id": "818b3b52",
   "metadata": {},
   "source": [
    "In this exercise we use the IMDb-dataset, which we will use to perform a sentiment analysis. The code below assumes that the data is placed in the same folder as this notebook. We see that the reviews are loaded as a pandas dataframe, and print the beginning of the first few reviews."
   ]
  },
  {
   "cell_type": "code",
   "execution_count": 1,
   "id": "67da3bc0",
   "metadata": {},
   "outputs": [
    {
     "name": "stdout",
     "output_type": "stream",
     "text": [
      "<class 'pandas.core.frame.DataFrame'>\n",
      "                                                   0\n",
      "0  bromwell high is a cartoon comedy . it ran at ...\n",
      "1  story of a man who has unnatural feelings for ...\n",
      "2  homelessness  or houselessness as george carli...\n",
      "3  airport    starts as a brand new luxury    pla...\n",
      "4  brilliant over  acting by lesley ann warren . ...\n"
     ]
    }
   ],
   "source": [
    "import numpy as np\n",
    "import pandas as pd\n",
    "\n",
    "reviews = pd.read_csv('reviews.txt', header=None)\n",
    "labels = pd.read_csv('labels.txt', header=None)\n",
    "Y = (labels=='positive').astype(np.int_)\n",
    "\n",
    "print(type(reviews))\n",
    "print(reviews.head())"
   ]
  },
  {
   "cell_type": "markdown",
   "id": "4982b946",
   "metadata": {},
   "source": [
    "**(a)** Split the reviews and labels in test, train and validation sets. The train and validation sets will be used to train your model and tune hyperparameters, the test set will be saved for testing. Use the `CountVectorizer` from `sklearn.feature_extraction.text` to create a Bag-of-Words representation of the reviews. Only use the 10,000 most frequent words (use the `max_features`-parameter of `CountVectorizer`)."
   ]
  },
  {
   "cell_type": "markdown",
   "id": "ebf07ee9",
   "metadata": {},
   "source": [
    "**(b)** Explore the representation of the reviews. How is a single word represented? How about a whole review?"
   ]
  },
  {
   "cell_type": "markdown",
   "id": "c2638fce",
   "metadata": {},
   "source": [
    "**(c)** Train a neural network with a single hidden layer on the dataset, tuning the relevant hyperparameters to optimize accuracy. "
   ]
  },
  {
   "cell_type": "markdown",
   "id": "1fd327a6",
   "metadata": {},
   "source": [
    "**(d)** Test your sentiment-classifier on the test set."
   ]
  },
  {
   "cell_type": "markdown",
   "id": "fd44ee62",
   "metadata": {},
   "source": [
    "**(e)** Use the classifier to classify a few sentences you write yourselves. "
   ]
  },
  {
   "cell_type": "code",
   "execution_count": 2,
   "id": "38bd917b-4218-4535-a462-f7fbb9f65dc1",
   "metadata": {},
   "outputs": [
    {
     "name": "stdout",
     "output_type": "stream",
     "text": [
      "Size of training set:16000\n",
      "Size of validation set:4000\n",
      "Size of test set:5000\n"
     ]
    }
   ],
   "source": [
    "from sklearn.model_selection import train_test_split\n",
    "\n",
    "# 80% train+val, 20% test\n",
    "X_train_val, X_test, y_train_val, y_test = train_test_split(\n",
    "    reviews, Y, test_size=0.2, random_state=42)\n",
    "\n",
    "X_train, X_val, y_train, y_val = train_test_split(\n",
    "    X_train_val, y_train_val, test_size=0.2, random_state=42)\n",
    "\n",
    "\n",
    "print(\"Size of training set:{}\".format(X_train.shape[0]))\n",
    "print(\"Size of validation set:{}\".format(X_val.shape[0]))\n",
    "print(\"Size of test set:{}\".format(X_test.shape[0]))"
   ]
  },
  {
   "cell_type": "code",
   "execution_count": 3,
   "id": "ac690ac6-2985-467f-852d-a5296b9bc7ee",
   "metadata": {},
   "outputs": [],
   "source": [
    "from sklearn.feature_extraction.text import CountVectorizer\n",
    "\n",
    "#creating vectorizer max 10000 words\n",
    "vectorizer = CountVectorizer(max_features=10000)\n"
   ]
  },
  {
   "cell_type": "code",
   "execution_count": null,
   "id": "02bb0642-9e6c-4e35-9e2d-3391cb102e91",
   "metadata": {},
   "outputs": [],
   "source": [
    "X_train_vec = vectorizer.fit_transform(X_train[0])\n",
    "\n",
    "X_val_vec = vectorizer.transform(X_val[0])\n",
    "X_test_vec = vectorizer.transform(X_test[0])"
   ]
  },
  {
   "cell_type": "code",
   "execution_count": 5,
   "id": "2e2753fd-abb9-46d2-a7ef-84e8d94af823",
   "metadata": {},
   "outputs": [
    {
     "name": "stdout",
     "output_type": "stream",
     "text": [
      "Train vector shape: (16000, 10000)\n",
      "Validation vector shape: (4000, 10000)\n",
      "Test vector shape: (5000, 10000)\n"
     ]
    }
   ],
   "source": [
    "print(\"Train vector shape:\", X_train_vec.shape)\n",
    "print(\"Validation vector shape:\", X_val_vec.shape)\n",
    "print(\"Test vector shape:\", X_test_vec.shape)\n"
   ]
  },
  {
   "cell_type": "markdown",
   "id": "4d099f73-167d-45cb-8e73-fc41855e6764",
   "metadata": {},
   "source": [
    "Each review is represented as a row of 10,000 numbers, where each number shows how many times a specific word appears in that review. For example, the training set has 16,000 reviews, so its shape is (16000, 10000). The validation set has 4,000 reviews, and the test set has 5,000."
   ]
  },
  {
   "cell_type": "code",
   "execution_count": 6,
   "id": "5c9d58dd-bc42-4922-8082-afde1e6f3dc1",
   "metadata": {},
   "outputs": [
    {
     "name": "stdout",
     "output_type": "stream",
     "text": [
      "\n",
      "Review #0 uses 66 unique words.\n",
      "the: 5\n",
      "michael: 1\n",
      "keaton: 1\n",
      "comedy: 2\n",
      "of: 4\n",
      "same: 1\n",
      "title: 1\n",
      "was: 1\n",
      "condemned: 1\n",
      "for: 2\n",
      "it: 2\n",
      "um: 1\n",
      "shoddy: 1\n",
      "special: 1\n",
      "effects: 1\n",
      "but: 2\n",
      "compared: 1\n",
      "to: 2\n",
      "what: 1\n",
      "screaming: 1\n",
      "mad: 1\n",
      "george: 1\n",
      "up: 1\n",
      "this: 2\n",
      "horror: 1\n",
      "they: 2\n",
      "re: 1\n",
      "positively: 1\n",
      "mind: 1\n",
      "boggling: 1\n",
      "killer: 1\n",
      "snowman: 1\n",
      "seems: 1\n",
      "be: 1\n",
      "made: 1\n",
      "out: 1\n",
      "and: 2\n",
      "his: 1\n",
      "arms: 1\n",
      "look: 1\n",
      "like: 1\n",
      "which: 1\n",
      "probably: 1\n",
      "were: 1\n",
      "cast: 1\n",
      "lays: 1\n",
      "on: 1\n",
      "thick: 1\n",
      "in: 2\n",
      "parody: 1\n",
      "dozens: 1\n",
      "other: 1\n",
      "much: 1\n",
      "worse: 1\n",
      "movies: 1\n",
      "paul: 1\n",
      "keith: 1\n",
      "as: 1\n",
      "town: 1\n",
      "doctor: 1\n",
      "is: 1\n",
      "particularly: 1\n",
      "memorable: 1\n",
      "small: 1\n",
      "hilarious: 1\n",
      "role: 1\n"
     ]
    }
   ],
   "source": [
    "#random review\n",
    "index = 0\n",
    "review_vector = X_train_vec[index]\n",
    "\n",
    "#obtaining words and freq\n",
    "word_indices = review_vector.nonzero()[1]\n",
    "word_counts = review_vector.toarray()[0][word_indices]\n",
    "words = vectorizer.get_feature_names_out()[word_indices]\n",
    "\n",
    "print(f\"\\nReview #{index} uses {len(word_indices)} unique words.\")\n",
    "\n",
    "#showing each word with freq\n",
    "for i in range(len(words)):\n",
    "    print(f\"{words[i]}: {word_counts[i]}\")\n"
   ]
  },
  {
   "cell_type": "markdown",
   "id": "13139b0f-0f83-4208-96dc-78d84ffa0847",
   "metadata": {},
   "source": [
    "Each word is represented by a fixed position in a 10,000-length vector. If the word appears in a review, that position has a number showing how many times it appears; if it doesn't, the value is zero."
   ]
  },
  {
   "cell_type": "code",
   "execution_count": 7,
   "id": "b845877c-63f8-4911-85ad-2229bbad246d",
   "metadata": {},
   "outputs": [
    {
     "ename": "ModuleNotFoundError",
     "evalue": "No module named 'tensorflow.keras'",
     "output_type": "error",
     "traceback": [
      "\u001b[1;31m---------------------------------------------------------------------------\u001b[0m",
      "\u001b[1;31mModuleNotFoundError\u001b[0m                       Traceback (most recent call last)",
      "Cell \u001b[1;32mIn[7], line 1\u001b[0m\n\u001b[1;32m----> 1\u001b[0m \u001b[38;5;28;01mfrom\u001b[39;00m \u001b[38;5;21;01mtensorflow\u001b[39;00m\u001b[38;5;21;01m.\u001b[39;00m\u001b[38;5;21;01mkeras\u001b[39;00m\u001b[38;5;21;01m.\u001b[39;00m\u001b[38;5;21;01mmodels\u001b[39;00m \u001b[38;5;28;01mimport\u001b[39;00m Sequential \u001b[38;5;66;03m#The Sequential class is a way to build a neural network model layer by layer\u001b[39;00m\n\u001b[0;32m      2\u001b[0m \u001b[38;5;28;01mfrom\u001b[39;00m \u001b[38;5;21;01mtensorflow\u001b[39;00m\u001b[38;5;21;01m.\u001b[39;00m\u001b[38;5;21;01mkeras\u001b[39;00m\u001b[38;5;21;01m.\u001b[39;00m\u001b[38;5;21;01mlayers\u001b[39;00m \u001b[38;5;28;01mimport\u001b[39;00m Dense, Dropout \u001b[38;5;66;03m#Dense: A fully connected layer. Each neuron is connected to every neuron in the previous layer. Drpout: A layer that randomly turns off (drops) a fraction of neurons during training.\u001b[39;00m\n\u001b[0;32m      3\u001b[0m \u001b[38;5;28;01mfrom\u001b[39;00m \u001b[38;5;21;01mtensorflow\u001b[39;00m\u001b[38;5;21;01m.\u001b[39;00m\u001b[38;5;21;01mkeras\u001b[39;00m\u001b[38;5;21;01m.\u001b[39;00m\u001b[38;5;21;01moptimizers\u001b[39;00m \u001b[38;5;28;01mimport\u001b[39;00m Adam \u001b[38;5;66;03m#The Adam optimizer is an algorithm that adjusts the weights in your model based on training loss.\u001b[39;00m\n",
      "\u001b[1;31mModuleNotFoundError\u001b[0m: No module named 'tensorflow.keras'"
     ]
    }
   ],
   "source": [
    "from tensorflow.keras.models import Sequential #The Sequential class is a way to build a neural network model layer by layer\n",
    "from tensorflow.keras.layers import Dense, Dropout #Dense: A fully connected layer. Each neuron is connected to every neuron in the previous layer. Drpout: A layer that randomly turns off (drops) a fraction of neurons during training.\n",
    "from tensorflow.keras.optimizers import Adam #The Adam optimizer is an algorithm that adjusts the weights in your model based on training loss.\n",
    "from tensorflow.keras.callbacks import EarlyStopping #A callback that can stop training early if the model stops improving.\n",
    "from tensorflow.keras.regularizers import l2 #A regularizer that penalizes large weights by adding an extra term to the loss function.\n",
    "\n",
    "# converting to arrays\n",
    "X_train_dense = X_train_vec.toarray()\n",
    "X_val_dense = X_val_vec.toarray()\n",
    "X_test_dense = X_test_vec.toarray()\n",
    "\n",
    "max_count = X_train_dense.max()\n",
    "print(\"Max word count in training data:\", max_count)\n",
    "\n",
    "# scaling\n",
    "X_train_scaled = X_train_dense / 16.0\n",
    "X_val_scaled = X_val_dense / 16.0\n",
    "X_test_scaled = X_test_dense / 16.0\n",
    "\n",
    "input_size = 10000  #max_features\n",
    "\n",
    "# model with one hidden layer \n",
    "model = Sequential()\n",
    "model.add(Dense(units=16, activation='relu', input_dim=input_size, kernel_regularizer=l2(0.005)))\n",
    "model.add(Dropout(0.5))  #just 50% of neurons during training\n",
    "model.add(Dense(1, activation='sigmoid'))\n",
    "\n",
    "\n",
    "adam_opt = Adam() #optimizer\n",
    "model.compile(loss = 'binary_crossentropy', optimizer = adam_opt, metrics = ['accuracy'])\n",
    "\n",
    "# resumen\n",
    "model.summary()\n",
    "\n"
   ]
  },
  {
   "cell_type": "markdown",
   "id": "4ba86aaa-816c-41d5-8c74-c1c26308a927",
   "metadata": {},
   "source": [
    "Used a simple architecture with 1 hidden layer of 16 neurons to reduce overfitting.\n",
    "\n",
    "Applied dropout (0.5) and L2 regularization (λ=0.005) to improve generalization.\n",
    "\n",
    "Input vectors (from CountVectorizer, 10,000 features) were scaled by dividing by 16.0.\n",
    "\n",
    "Output layer: 1 neuron with sigmoid activation for binary classification.\n",
    "\n",
    "Optimized with Adam and binary cross-entropy loss."
   ]
  },
  {
   "cell_type": "markdown",
   "id": "85442c87-2d7b-486b-b749-8bd36b483d03",
   "metadata": {},
   "source": [
    "The first dense layer has 16 neurons and receives input vectors of size 10,000, resulting in 160,016 trainable parameters (10,000 weights per neuron plus one bias per neuron). The dropout layer does not contain any trainable parameters, as it only deactivates a portion of neurons during training to reduce overfitting. The output layer consists of a single neuron for binary classification, with 17 parameters (16 weights plus one bias). In total, the model has 160,033 trainable parameters and no non-trainable parameters."
   ]
  },
  {
   "cell_type": "code",
   "execution_count": null,
   "id": "ecf7fa9b-5806-4daf-a41b-36138b2f5186",
   "metadata": {},
   "outputs": [
    {
     "name": "stdout",
     "output_type": "stream",
     "text": [
      "Epoch 1/100\n",
      "\u001b[1m320/320\u001b[0m \u001b[32m━━━━━━━━━━━━━━━━━━━━\u001b[0m\u001b[37m\u001b[0m \u001b[1m7s\u001b[0m 8ms/step - accuracy: 0.6615 - loss: 0.6884 - val_accuracy: 0.7905 - val_loss: 0.6253\n",
      "Epoch 2/100\n",
      "\u001b[1m320/320\u001b[0m \u001b[32m━━━━━━━━━━━━━━━━━━━━\u001b[0m\u001b[37m\u001b[0m \u001b[1m2s\u001b[0m 7ms/step - accuracy: 0.7545 - loss: 0.6207 - val_accuracy: 0.8018 - val_loss: 0.5996\n",
      "Epoch 3/100\n",
      "\u001b[1m320/320\u001b[0m \u001b[32m━━━━━━━━━━━━━━━━━━━━\u001b[0m\u001b[37m\u001b[0m \u001b[1m3s\u001b[0m 7ms/step - accuracy: 0.7747 - loss: 0.5953 - val_accuracy: 0.8188 - val_loss: 0.5811\n",
      "Epoch 4/100\n",
      "\u001b[1m320/320\u001b[0m \u001b[32m━━━━━━━━━━━━━━━━━━━━\u001b[0m\u001b[37m\u001b[0m \u001b[1m2s\u001b[0m 6ms/step - accuracy: 0.7845 - loss: 0.5863 - val_accuracy: 0.8260 - val_loss: 0.5687\n",
      "Epoch 5/100\n",
      "\u001b[1m320/320\u001b[0m \u001b[32m━━━━━━━━━━━━━━━━━━━━\u001b[0m\u001b[37m\u001b[0m \u001b[1m2s\u001b[0m 6ms/step - accuracy: 0.7949 - loss: 0.5746 - val_accuracy: 0.8295 - val_loss: 0.5591\n",
      "Epoch 6/100\n",
      "\u001b[1m320/320\u001b[0m \u001b[32m━━━━━━━━━━━━━━━━━━━━\u001b[0m\u001b[37m\u001b[0m \u001b[1m2s\u001b[0m 6ms/step - accuracy: 0.8000 - loss: 0.5664 - val_accuracy: 0.8313 - val_loss: 0.5464\n",
      "Epoch 7/100\n",
      "\u001b[1m320/320\u001b[0m \u001b[32m━━━━━━━━━━━━━━━━━━━━\u001b[0m\u001b[37m\u001b[0m \u001b[1m3s\u001b[0m 8ms/step - accuracy: 0.8088 - loss: 0.5542 - val_accuracy: 0.8242 - val_loss: 0.5480\n",
      "Epoch 8/100\n",
      "\u001b[1m320/320\u001b[0m \u001b[32m━━━━━━━━━━━━━━━━━━━━\u001b[0m\u001b[37m\u001b[0m \u001b[1m2s\u001b[0m 7ms/step - accuracy: 0.8119 - loss: 0.5442 - val_accuracy: 0.8420 - val_loss: 0.5286\n",
      "Epoch 9/100\n",
      "\u001b[1m320/320\u001b[0m \u001b[32m━━━━━━━━━━━━━━━━━━━━\u001b[0m\u001b[37m\u001b[0m \u001b[1m2s\u001b[0m 7ms/step - accuracy: 0.8215 - loss: 0.5347 - val_accuracy: 0.8450 - val_loss: 0.5218\n",
      "Epoch 10/100\n",
      "\u001b[1m320/320\u001b[0m \u001b[32m━━━━━━━━━━━━━━━━━━━━\u001b[0m\u001b[37m\u001b[0m \u001b[1m3s\u001b[0m 8ms/step - accuracy: 0.8306 - loss: 0.5248 - val_accuracy: 0.8457 - val_loss: 0.5199\n",
      "Epoch 11/100\n",
      "\u001b[1m320/320\u001b[0m \u001b[32m━━━━━━━━━━━━━━━━━━━━\u001b[0m\u001b[37m\u001b[0m \u001b[1m2s\u001b[0m 7ms/step - accuracy: 0.8366 - loss: 0.5156 - val_accuracy: 0.8500 - val_loss: 0.5054\n",
      "Epoch 12/100\n",
      "\u001b[1m320/320\u001b[0m \u001b[32m━━━━━━━━━━━━━━━━━━━━\u001b[0m\u001b[37m\u001b[0m \u001b[1m2s\u001b[0m 6ms/step - accuracy: 0.8338 - loss: 0.5113 - val_accuracy: 0.8493 - val_loss: 0.5033\n",
      "Epoch 13/100\n",
      "\u001b[1m320/320\u001b[0m \u001b[32m━━━━━━━━━━━━━━━━━━━━\u001b[0m\u001b[37m\u001b[0m \u001b[1m3s\u001b[0m 8ms/step - accuracy: 0.8296 - loss: 0.5191 - val_accuracy: 0.8547 - val_loss: 0.4981\n",
      "Epoch 14/100\n",
      "\u001b[1m320/320\u001b[0m \u001b[32m━━━━━━━━━━━━━━━━━━━━\u001b[0m\u001b[37m\u001b[0m \u001b[1m2s\u001b[0m 7ms/step - accuracy: 0.8402 - loss: 0.5023 - val_accuracy: 0.8480 - val_loss: 0.5001\n",
      "Epoch 15/100\n",
      "\u001b[1m320/320\u001b[0m \u001b[32m━━━━━━━━━━━━━━━━━━━━\u001b[0m\u001b[37m\u001b[0m \u001b[1m2s\u001b[0m 7ms/step - accuracy: 0.8427 - loss: 0.4896 - val_accuracy: 0.8585 - val_loss: 0.4910\n",
      "Epoch 16/100\n",
      "\u001b[1m320/320\u001b[0m \u001b[32m━━━━━━━━━━━━━━━━━━━━\u001b[0m\u001b[37m\u001b[0m \u001b[1m2s\u001b[0m 7ms/step - accuracy: 0.8391 - loss: 0.4962 - val_accuracy: 0.8583 - val_loss: 0.4881\n",
      "Epoch 17/100\n",
      "\u001b[1m320/320\u001b[0m \u001b[32m━━━━━━━━━━━━━━━━━━━━\u001b[0m\u001b[37m\u001b[0m \u001b[1m3s\u001b[0m 7ms/step - accuracy: 0.8534 - loss: 0.4840 - val_accuracy: 0.8450 - val_loss: 0.4971\n",
      "Epoch 18/100\n",
      "\u001b[1m320/320\u001b[0m \u001b[32m━━━━━━━━━━━━━━━━━━━━\u001b[0m\u001b[37m\u001b[0m \u001b[1m3s\u001b[0m 8ms/step - accuracy: 0.8465 - loss: 0.4868 - val_accuracy: 0.8602 - val_loss: 0.4802\n",
      "Epoch 19/100\n",
      "\u001b[1m320/320\u001b[0m \u001b[32m━━━━━━━━━━━━━━━━━━━━\u001b[0m\u001b[37m\u001b[0m \u001b[1m2s\u001b[0m 6ms/step - accuracy: 0.8513 - loss: 0.4822 - val_accuracy: 0.8602 - val_loss: 0.4796\n",
      "Epoch 20/100\n",
      "\u001b[1m320/320\u001b[0m \u001b[32m━━━━━━━━━━━━━━━━━━━━\u001b[0m\u001b[37m\u001b[0m \u001b[1m2s\u001b[0m 7ms/step - accuracy: 0.8482 - loss: 0.4791 - val_accuracy: 0.8685 - val_loss: 0.4774\n",
      "Epoch 21/100\n",
      "\u001b[1m320/320\u001b[0m \u001b[32m━━━━━━━━━━━━━━━━━━━━\u001b[0m\u001b[37m\u001b[0m \u001b[1m2s\u001b[0m 7ms/step - accuracy: 0.8569 - loss: 0.4709 - val_accuracy: 0.8597 - val_loss: 0.4753\n",
      "Epoch 22/100\n",
      "\u001b[1m320/320\u001b[0m \u001b[32m━━━━━━━━━━━━━━━━━━━━\u001b[0m\u001b[37m\u001b[0m \u001b[1m2s\u001b[0m 7ms/step - accuracy: 0.8622 - loss: 0.4671 - val_accuracy: 0.8665 - val_loss: 0.4636\n",
      "Epoch 23/100\n",
      "\u001b[1m320/320\u001b[0m \u001b[32m━━━━━━━━━━━━━━━━━━━━\u001b[0m\u001b[37m\u001b[0m \u001b[1m3s\u001b[0m 8ms/step - accuracy: 0.8631 - loss: 0.4568 - val_accuracy: 0.8687 - val_loss: 0.4653\n",
      "Epoch 24/100\n",
      "\u001b[1m320/320\u001b[0m \u001b[32m━━━━━━━━━━━━━━━━━━━━\u001b[0m\u001b[37m\u001b[0m \u001b[1m2s\u001b[0m 6ms/step - accuracy: 0.8652 - loss: 0.4639 - val_accuracy: 0.8675 - val_loss: 0.4634\n",
      "Epoch 25/100\n",
      "\u001b[1m320/320\u001b[0m \u001b[32m━━━━━━━━━━━━━━━━━━━━\u001b[0m\u001b[37m\u001b[0m \u001b[1m2s\u001b[0m 6ms/step - accuracy: 0.8693 - loss: 0.4600 - val_accuracy: 0.8555 - val_loss: 0.4874\n",
      "Epoch 26/100\n",
      "\u001b[1m320/320\u001b[0m \u001b[32m━━━━━━━━━━━━━━━━━━━━\u001b[0m\u001b[37m\u001b[0m \u001b[1m2s\u001b[0m 5ms/step - accuracy: 0.8644 - loss: 0.4561 - val_accuracy: 0.8652 - val_loss: 0.4703\n",
      "Epoch 27/100\n",
      "\u001b[1m320/320\u001b[0m \u001b[32m━━━━━━━━━━━━━━━━━━━━\u001b[0m\u001b[37m\u001b[0m \u001b[1m2s\u001b[0m 7ms/step - accuracy: 0.8673 - loss: 0.4525 - val_accuracy: 0.8500 - val_loss: 0.4772\n",
      "Epoch 28/100\n",
      "\u001b[1m320/320\u001b[0m \u001b[32m━━━━━━━━━━━━━━━━━━━━\u001b[0m\u001b[37m\u001b[0m \u001b[1m3s\u001b[0m 8ms/step - accuracy: 0.8683 - loss: 0.4548 - val_accuracy: 0.8640 - val_loss: 0.4593\n",
      "Epoch 29/100\n",
      "\u001b[1m320/320\u001b[0m \u001b[32m━━━━━━━━━━━━━━━━━━━━\u001b[0m\u001b[37m\u001b[0m \u001b[1m3s\u001b[0m 8ms/step - accuracy: 0.8649 - loss: 0.4465 - val_accuracy: 0.8635 - val_loss: 0.4596\n",
      "Epoch 30/100\n",
      "\u001b[1m320/320\u001b[0m \u001b[32m━━━━━━━━━━━━━━━━━━━━\u001b[0m\u001b[37m\u001b[0m \u001b[1m3s\u001b[0m 8ms/step - accuracy: 0.8654 - loss: 0.4526 - val_accuracy: 0.8698 - val_loss: 0.4527\n",
      "Epoch 31/100\n",
      "\u001b[1m320/320\u001b[0m \u001b[32m━━━━━━━━━━━━━━━━━━━━\u001b[0m\u001b[37m\u001b[0m \u001b[1m3s\u001b[0m 8ms/step - accuracy: 0.8672 - loss: 0.4455 - val_accuracy: 0.8668 - val_loss: 0.4595\n",
      "Epoch 32/100\n",
      "\u001b[1m320/320\u001b[0m \u001b[32m━━━━━━━━━━━━━━━━━━━━\u001b[0m\u001b[37m\u001b[0m \u001b[1m2s\u001b[0m 7ms/step - accuracy: 0.8695 - loss: 0.4485 - val_accuracy: 0.8727 - val_loss: 0.4531\n",
      "Epoch 33/100\n",
      "\u001b[1m320/320\u001b[0m \u001b[32m━━━━━━━━━━━━━━━━━━━━\u001b[0m\u001b[37m\u001b[0m \u001b[1m2s\u001b[0m 7ms/step - accuracy: 0.8706 - loss: 0.4411 - val_accuracy: 0.8700 - val_loss: 0.4522\n",
      "Epoch 34/100\n",
      "\u001b[1m320/320\u001b[0m \u001b[32m━━━━━━━━━━━━━━━━━━━━\u001b[0m\u001b[37m\u001b[0m \u001b[1m3s\u001b[0m 8ms/step - accuracy: 0.8700 - loss: 0.4430 - val_accuracy: 0.8690 - val_loss: 0.4555\n",
      "Epoch 35/100\n",
      "\u001b[1m320/320\u001b[0m \u001b[32m━━━━━━━━━━━━━━━━━━━━\u001b[0m\u001b[37m\u001b[0m \u001b[1m3s\u001b[0m 8ms/step - accuracy: 0.8745 - loss: 0.4428 - val_accuracy: 0.8692 - val_loss: 0.4559\n",
      "Epoch 36/100\n",
      "\u001b[1m320/320\u001b[0m \u001b[32m━━━━━━━━━━━━━━━━━━━━\u001b[0m\u001b[37m\u001b[0m \u001b[1m5s\u001b[0m 7ms/step - accuracy: 0.8729 - loss: 0.4434 - val_accuracy: 0.8745 - val_loss: 0.4504\n",
      "Epoch 37/100\n",
      "\u001b[1m320/320\u001b[0m \u001b[32m━━━━━━━━━━━━━━━━━━━━\u001b[0m\u001b[37m\u001b[0m \u001b[1m2s\u001b[0m 8ms/step - accuracy: 0.8769 - loss: 0.4377 - val_accuracy: 0.8695 - val_loss: 0.4596\n",
      "Epoch 38/100\n",
      "\u001b[1m320/320\u001b[0m \u001b[32m━━━━━━━━━━━━━━━━━━━━\u001b[0m\u001b[37m\u001b[0m \u001b[1m2s\u001b[0m 7ms/step - accuracy: 0.8736 - loss: 0.4402 - val_accuracy: 0.8740 - val_loss: 0.4506\n",
      "Epoch 39/100\n",
      "\u001b[1m320/320\u001b[0m \u001b[32m━━━━━━━━━━━━━━━━━━━━\u001b[0m\u001b[37m\u001b[0m \u001b[1m3s\u001b[0m 8ms/step - accuracy: 0.8785 - loss: 0.4315 - val_accuracy: 0.8727 - val_loss: 0.4495\n",
      "Epoch 40/100\n",
      "\u001b[1m320/320\u001b[0m \u001b[32m━━━━━━━━━━━━━━━━━━━━\u001b[0m\u001b[37m\u001b[0m \u001b[1m2s\u001b[0m 7ms/step - accuracy: 0.8765 - loss: 0.4352 - val_accuracy: 0.8745 - val_loss: 0.4433\n",
      "Epoch 41/100\n",
      "\u001b[1m320/320\u001b[0m \u001b[32m━━━━━━━━━━━━━━━━━━━━\u001b[0m\u001b[37m\u001b[0m \u001b[1m3s\u001b[0m 8ms/step - accuracy: 0.8777 - loss: 0.4295 - val_accuracy: 0.8712 - val_loss: 0.4469\n",
      "Epoch 42/100\n",
      "\u001b[1m320/320\u001b[0m \u001b[32m━━━━━━━━━━━━━━━━━━━━\u001b[0m\u001b[37m\u001b[0m \u001b[1m2s\u001b[0m 7ms/step - accuracy: 0.8832 - loss: 0.4232 - val_accuracy: 0.8720 - val_loss: 0.4463\n",
      "Epoch 43/100\n",
      "\u001b[1m320/320\u001b[0m \u001b[32m━━━━━━━━━━━━━━━━━━━━\u001b[0m\u001b[37m\u001b[0m \u001b[1m3s\u001b[0m 7ms/step - accuracy: 0.8812 - loss: 0.4298 - val_accuracy: 0.8717 - val_loss: 0.4623\n",
      "Epoch 44/100\n",
      "\u001b[1m320/320\u001b[0m \u001b[32m━━━━━━━━━━━━━━━━━━━━\u001b[0m\u001b[37m\u001b[0m \u001b[1m2s\u001b[0m 6ms/step - accuracy: 0.8771 - loss: 0.4355 - val_accuracy: 0.8673 - val_loss: 0.4501\n",
      "Epoch 45/100\n",
      "\u001b[1m320/320\u001b[0m \u001b[32m━━━━━━━━━━━━━━━━━━━━\u001b[0m\u001b[37m\u001b[0m \u001b[1m2s\u001b[0m 6ms/step - accuracy: 0.8763 - loss: 0.4251 - val_accuracy: 0.8692 - val_loss: 0.4495\n",
      "Epoch 46/100\n",
      "\u001b[1m320/320\u001b[0m \u001b[32m━━━━━━━━━━━━━━━━━━━━\u001b[0m\u001b[37m\u001b[0m \u001b[1m3s\u001b[0m 8ms/step - accuracy: 0.8825 - loss: 0.4238 - val_accuracy: 0.8650 - val_loss: 0.4651\n",
      "Epoch 47/100\n",
      "\u001b[1m320/320\u001b[0m \u001b[32m━━━━━━━━━━━━━━━━━━━━\u001b[0m\u001b[37m\u001b[0m \u001b[1m2s\u001b[0m 7ms/step - accuracy: 0.8781 - loss: 0.4342 - val_accuracy: 0.8727 - val_loss: 0.4534\n",
      "Epoch 48/100\n",
      "\u001b[1m320/320\u001b[0m \u001b[32m━━━━━━━━━━━━━━━━━━━━\u001b[0m\u001b[37m\u001b[0m \u001b[1m2s\u001b[0m 7ms/step - accuracy: 0.8748 - loss: 0.4319 - val_accuracy: 0.8750 - val_loss: 0.4414\n",
      "Epoch 49/100\n",
      "\u001b[1m320/320\u001b[0m \u001b[32m━━━━━━━━━━━━━━━━━━━━\u001b[0m\u001b[37m\u001b[0m \u001b[1m2s\u001b[0m 6ms/step - accuracy: 0.8831 - loss: 0.4259 - val_accuracy: 0.8720 - val_loss: 0.4489\n",
      "Epoch 50/100\n",
      "\u001b[1m320/320\u001b[0m \u001b[32m━━━━━━━━━━━━━━━━━━━━\u001b[0m\u001b[37m\u001b[0m \u001b[1m3s\u001b[0m 8ms/step - accuracy: 0.8818 - loss: 0.4251 - val_accuracy: 0.8760 - val_loss: 0.4474\n",
      "Epoch 51/100\n",
      "\u001b[1m320/320\u001b[0m \u001b[32m━━━━━━━━━━━━━━━━━━━━\u001b[0m\u001b[37m\u001b[0m \u001b[1m2s\u001b[0m 7ms/step - accuracy: 0.8790 - loss: 0.4288 - val_accuracy: 0.8740 - val_loss: 0.4450\n",
      "Epoch 52/100\n",
      "\u001b[1m320/320\u001b[0m \u001b[32m━━━━━━━━━━━━━━━━━━━━\u001b[0m\u001b[37m\u001b[0m \u001b[1m2s\u001b[0m 6ms/step - accuracy: 0.8847 - loss: 0.4192 - val_accuracy: 0.8725 - val_loss: 0.4558\n",
      "Epoch 53/100\n",
      "\u001b[1m320/320\u001b[0m \u001b[32m━━━━━━━━━━━━━━━━━━━━\u001b[0m\u001b[37m\u001b[0m \u001b[1m3s\u001b[0m 8ms/step - accuracy: 0.8831 - loss: 0.4195 - val_accuracy: 0.8765 - val_loss: 0.4458\n",
      "Epoch 54/100\n",
      "\u001b[1m320/320\u001b[0m \u001b[32m━━━━━━━━━━━━━━━━━━━━\u001b[0m\u001b[37m\u001b[0m \u001b[1m3s\u001b[0m 8ms/step - accuracy: 0.8876 - loss: 0.4185 - val_accuracy: 0.8570 - val_loss: 0.4869\n",
      "Epoch 55/100\n",
      "\u001b[1m320/320\u001b[0m \u001b[32m━━━━━━━━━━━━━━━━━━━━\u001b[0m\u001b[37m\u001b[0m \u001b[1m2s\u001b[0m 7ms/step - accuracy: 0.8754 - loss: 0.4317 - val_accuracy: 0.8780 - val_loss: 0.4471\n",
      "Epoch 56/100\n",
      "\u001b[1m320/320\u001b[0m \u001b[32m━━━━━━━━━━━━━━━━━━━━\u001b[0m\u001b[37m\u001b[0m \u001b[1m3s\u001b[0m 8ms/step - accuracy: 0.8851 - loss: 0.4206 - val_accuracy: 0.8752 - val_loss: 0.4407\n",
      "Epoch 57/100\n",
      "\u001b[1m320/320\u001b[0m \u001b[32m━━━━━━━━━━━━━━━━━━━━\u001b[0m\u001b[37m\u001b[0m \u001b[1m3s\u001b[0m 8ms/step - accuracy: 0.8860 - loss: 0.4209 - val_accuracy: 0.8775 - val_loss: 0.4437\n",
      "Epoch 58/100\n",
      "\u001b[1m320/320\u001b[0m \u001b[32m━━━━━━━━━━━━━━━━━━━━\u001b[0m\u001b[37m\u001b[0m \u001b[1m2s\u001b[0m 6ms/step - accuracy: 0.8859 - loss: 0.4161 - val_accuracy: 0.8752 - val_loss: 0.4421\n",
      "Epoch 59/100\n",
      "\u001b[1m320/320\u001b[0m \u001b[32m━━━━━━━━━━━━━━━━━━━━\u001b[0m\u001b[37m\u001b[0m \u001b[1m3s\u001b[0m 8ms/step - accuracy: 0.8891 - loss: 0.4112 - val_accuracy: 0.8727 - val_loss: 0.4541\n",
      "Epoch 60/100\n",
      "\u001b[1m320/320\u001b[0m \u001b[32m━━━━━━━━━━━━━━━━━━━━\u001b[0m\u001b[37m\u001b[0m \u001b[1m3s\u001b[0m 8ms/step - accuracy: 0.8756 - loss: 0.4260 - val_accuracy: 0.8763 - val_loss: 0.4399\n",
      "Epoch 61/100\n",
      "\u001b[1m320/320\u001b[0m \u001b[32m━━━━━━━━━━━━━━━━━━━━\u001b[0m\u001b[37m\u001b[0m \u001b[1m3s\u001b[0m 8ms/step - accuracy: 0.8849 - loss: 0.4185 - val_accuracy: 0.8720 - val_loss: 0.4420\n",
      "Epoch 62/100\n",
      "\u001b[1m320/320\u001b[0m \u001b[32m━━━━━━━━━━━━━━━━━━━━\u001b[0m\u001b[37m\u001b[0m \u001b[1m2s\u001b[0m 8ms/step - accuracy: 0.8808 - loss: 0.4254 - val_accuracy: 0.8727 - val_loss: 0.4493\n",
      "Epoch 63/100\n",
      "\u001b[1m320/320\u001b[0m \u001b[32m━━━━━━━━━━━━━━━━━━━━\u001b[0m\u001b[37m\u001b[0m \u001b[1m3s\u001b[0m 8ms/step - accuracy: 0.8897 - loss: 0.4133 - val_accuracy: 0.8760 - val_loss: 0.4520\n",
      "Epoch 64/100\n",
      "\u001b[1m320/320\u001b[0m \u001b[32m━━━━━━━━━━━━━━━━━━━━\u001b[0m\u001b[37m\u001b[0m \u001b[1m2s\u001b[0m 7ms/step - accuracy: 0.8848 - loss: 0.4151 - val_accuracy: 0.8740 - val_loss: 0.4468\n",
      "Epoch 65/100\n",
      "\u001b[1m320/320\u001b[0m \u001b[32m━━━━━━━━━━━━━━━━━━━━\u001b[0m\u001b[37m\u001b[0m \u001b[1m2s\u001b[0m 7ms/step - accuracy: 0.8875 - loss: 0.4170 - val_accuracy: 0.8800 - val_loss: 0.4513\n",
      "Epoch 66/100\n",
      "\u001b[1m320/320\u001b[0m \u001b[32m━━━━━━━━━━━━━━━━━━━━\u001b[0m\u001b[37m\u001b[0m \u001b[1m3s\u001b[0m 8ms/step - accuracy: 0.8889 - loss: 0.4142 - val_accuracy: 0.8705 - val_loss: 0.4512\n",
      "Epoch 67/100\n",
      "\u001b[1m320/320\u001b[0m \u001b[32m━━━━━━━━━━━━━━━━━━━━\u001b[0m\u001b[37m\u001b[0m \u001b[1m2s\u001b[0m 7ms/step - accuracy: 0.8863 - loss: 0.4182 - val_accuracy: 0.8770 - val_loss: 0.4538\n",
      "Epoch 68/100\n",
      "\u001b[1m320/320\u001b[0m \u001b[32m━━━━━━━━━━━━━━━━━━━━\u001b[0m\u001b[37m\u001b[0m \u001b[1m2s\u001b[0m 8ms/step - accuracy: 0.8871 - loss: 0.4164 - val_accuracy: 0.8763 - val_loss: 0.4411\n",
      "Epoch 69/100\n",
      "\u001b[1m320/320\u001b[0m \u001b[32m━━━━━━━━━━━━━━━━━━━━\u001b[0m\u001b[37m\u001b[0m \u001b[1m3s\u001b[0m 8ms/step - accuracy: 0.8894 - loss: 0.4131 - val_accuracy: 0.8740 - val_loss: 0.4449\n",
      "Epoch 70/100\n",
      "\u001b[1m320/320\u001b[0m \u001b[32m━━━━━━━━━━━━━━━━━━━━\u001b[0m\u001b[37m\u001b[0m \u001b[1m2s\u001b[0m 8ms/step - accuracy: 0.8838 - loss: 0.4181 - val_accuracy: 0.8817 - val_loss: 0.4368\n",
      "Epoch 71/100\n",
      "\u001b[1m320/320\u001b[0m \u001b[32m━━━━━━━━━━━━━━━━━━━━\u001b[0m\u001b[37m\u001b[0m \u001b[1m2s\u001b[0m 7ms/step - accuracy: 0.8922 - loss: 0.4109 - val_accuracy: 0.8790 - val_loss: 0.4363\n",
      "Epoch 72/100\n",
      "\u001b[1m320/320\u001b[0m \u001b[32m━━━━━━━━━━━━━━━━━━━━\u001b[0m\u001b[37m\u001b[0m \u001b[1m2s\u001b[0m 8ms/step - accuracy: 0.8894 - loss: 0.4090 - val_accuracy: 0.8735 - val_loss: 0.4405\n",
      "Epoch 73/100\n",
      "\u001b[1m320/320\u001b[0m \u001b[32m━━━━━━━━━━━━━━━━━━━━\u001b[0m\u001b[37m\u001b[0m \u001b[1m3s\u001b[0m 8ms/step - accuracy: 0.8897 - loss: 0.4113 - val_accuracy: 0.8763 - val_loss: 0.4408\n",
      "Epoch 74/100\n",
      "\u001b[1m320/320\u001b[0m \u001b[32m━━━━━━━━━━━━━━━━━━━━\u001b[0m\u001b[37m\u001b[0m \u001b[1m3s\u001b[0m 8ms/step - accuracy: 0.8881 - loss: 0.4145 - val_accuracy: 0.8750 - val_loss: 0.4475\n",
      "Epoch 75/100\n",
      "\u001b[1m320/320\u001b[0m \u001b[32m━━━━━━━━━━━━━━━━━━━━\u001b[0m\u001b[37m\u001b[0m \u001b[1m2s\u001b[0m 7ms/step - accuracy: 0.8916 - loss: 0.4093 - val_accuracy: 0.8702 - val_loss: 0.4499\n",
      "Epoch 76/100\n",
      "\u001b[1m320/320\u001b[0m \u001b[32m━━━━━━━━━━━━━━━━━━━━\u001b[0m\u001b[37m\u001b[0m \u001b[1m2s\u001b[0m 7ms/step - accuracy: 0.8884 - loss: 0.4100 - val_accuracy: 0.8798 - val_loss: 0.4465\n",
      "Epoch 77/100\n",
      "\u001b[1m320/320\u001b[0m \u001b[32m━━━━━━━━━━━━━━━━━━━━\u001b[0m\u001b[37m\u001b[0m \u001b[1m2s\u001b[0m 8ms/step - accuracy: 0.8877 - loss: 0.4171 - val_accuracy: 0.8767 - val_loss: 0.4513\n",
      "Epoch 78/100\n",
      "\u001b[1m320/320\u001b[0m \u001b[32m━━━━━━━━━━━━━━━━━━━━\u001b[0m\u001b[37m\u001b[0m \u001b[1m2s\u001b[0m 7ms/step - accuracy: 0.8860 - loss: 0.4145 - val_accuracy: 0.8760 - val_loss: 0.4560\n",
      "Epoch 79/100\n",
      "\u001b[1m320/320\u001b[0m \u001b[32m━━━━━━━━━━━━━━━━━━━━\u001b[0m\u001b[37m\u001b[0m \u001b[1m2s\u001b[0m 7ms/step - accuracy: 0.8893 - loss: 0.4163 - val_accuracy: 0.8765 - val_loss: 0.4445\n",
      "Epoch 80/100\n",
      "\u001b[1m320/320\u001b[0m \u001b[32m━━━━━━━━━━━━━━━━━━━━\u001b[0m\u001b[37m\u001b[0m \u001b[1m2s\u001b[0m 7ms/step - accuracy: 0.8895 - loss: 0.4085 - val_accuracy: 0.8802 - val_loss: 0.4429\n",
      "Epoch 81/100\n",
      "\u001b[1m320/320\u001b[0m \u001b[32m━━━━━━━━━━━━━━━━━━━━\u001b[0m\u001b[37m\u001b[0m \u001b[1m3s\u001b[0m 8ms/step - accuracy: 0.8890 - loss: 0.4128 - val_accuracy: 0.8755 - val_loss: 0.4473\n"
     ]
    }
   ],
   "source": [
    "# early stopping\n",
    "early_stop = EarlyStopping(monitor='val_loss', patience=10, restore_best_weights=True)\n",
    "\n",
    "# training\n",
    "history = model.fit(\n",
    "    X_train_scaled, y_train,\n",
    "    epochs=100,\n",
    "    batch_size=50,\n",
    "    validation_data=(X_val_scaled, y_val),\n",
    "    callbacks=[early_stop]\n",
    ")\n"
   ]
  },
  {
   "cell_type": "markdown",
   "id": "39433c53-44cd-4eec-b08a-d4eb0ba72316",
   "metadata": {},
   "source": [
    "Around epoch 25, the validation accuracy started to level off, showing that the model had already captured most useful patterns. The best validation loss occurred near epoch 71, and since EarlyStopping was used with a patience of 10, training stopped at epoch 81. EarlyStopping monitors val_loss and stops training if it doesn't improve for several epochs."
   ]
  },
  {
   "cell_type": "code",
   "execution_count": null,
   "id": "57424d37-c40d-4324-a606-cabfc831479d",
   "metadata": {},
   "outputs": [
    {
     "name": "stdout",
     "output_type": "stream",
     "text": [
      "\u001b[1m157/157\u001b[0m \u001b[32m━━━━━━━━━━━━━━━━━━━━\u001b[0m\u001b[37m\u001b[0m \u001b[1m1s\u001b[0m 5ms/step - accuracy: 0.8722 - loss: 0.4475\n",
      "\n",
      "Test accuracy: 0.8666\n"
     ]
    }
   ],
   "source": [
    "# test set evaluation\n",
    "test_loss, test_acc = model.evaluate(X_test_scaled, y_test)\n",
    "print(f\"\\nTest accuracy: {test_acc:.4f}\")\n"
   ]
  },
  {
   "cell_type": "markdown",
   "id": "58ea77c2-285a-4841-919a-54a42dab81e3",
   "metadata": {},
   "source": [
    "The model achieved 92% accuracy on the training set and around 89% on the validation set.\n",
    "It also performed well on the test set with 86.7% accuracy, showing good generalization.\n",
    "There is no strong sign of overfitting, as the training and test accuracies are close."
   ]
  },
  {
   "cell_type": "markdown",
   "id": "2ff3d72b-f847-4499-a4e1-19e4889927d8",
   "metadata": {},
   "source": [
    "Having 87% accuracy means that the model correctly predicts the sentiment of a review 87 times out of 100."
   ]
  },
  {
   "cell_type": "code",
   "execution_count": null,
   "id": "af377e8e-f329-49ad-8bc2-caf10cf71e68",
   "metadata": {},
   "outputs": [
    {
     "name": "stdout",
     "output_type": "stream",
     "text": [
      "Loss + accuracy on train data: [0.3497893810272217, 0.929437518119812]\n",
      "Loss + accuracy on test data: [0.4512285590171814, 0.866599977016449]\n"
     ]
    }
   ],
   "source": [
    "# Evaluate the optimized model\n",
    "print(\"Loss + accuracy on train data: {}\".format(model.evaluate(X_train_scaled, y_train, verbose=0)))\n",
    "print(\"Loss + accuracy on test data: {}\".format(model.evaluate(X_test_scaled, y_test, verbose=0)))"
   ]
  },
  {
   "cell_type": "code",
   "execution_count": null,
   "id": "15715899-c287-4fb2-bc63-8c1d964d4354",
   "metadata": {},
   "outputs": [
    {
     "data": {
      "image/png": "[encoded data removed]",
      "text/plain": [
       "<Figure size 640x480 with 1 Axes>"
      ]
     },
     "metadata": {},
     "output_type": "display_data"
    }
   ],
   "source": [
    "import matplotlib.pyplot as plt\n",
    "\n",
    "plt.figure()\n",
    "plt.title(\"Model Learning Curves\")\n",
    "plt.xlabel(\"Epoch\")\n",
    "plt.ylabel(\"Cross entropy loss\")\n",
    "plt.plot(history.history['loss'], label='train')\n",
    "plt.plot(history.history['val_loss'], label='valid')\n",
    "plt.legend()\n",
    "plt.show()\n"
   ]
  },
  {
   "cell_type": "markdown",
   "id": "f87b8bf3-89c2-4dc5-8f01-d456ec9651c3",
   "metadata": {},
   "source": [
    "The graph shows a consistent decrease in cross-entropy loss for both the training and validation sets. The loss curves show steady learning with minimal overfitting, as training and validation losses remain close. Final results confirm good generalization, with 90.0% accuracy on training data and 85.1% on test data."
   ]
  },
  {
   "cell_type": "markdown",
   "id": "36e1e3d9-5a7d-4024-8f8c-8d0828133778",
   "metadata": {},
   "source": [
    "## Using the classifier"
   ]
  },
  {
   "cell_type": "code",
   "execution_count": null,
   "id": "4efe959c-bc46-47bd-9759-655e079b0f09",
   "metadata": {},
   "outputs": [
    {
     "name": "stdout",
     "output_type": "stream",
     "text": [
      "\u001b[1m1/1\u001b[0m \u001b[32m━━━━━━━━━━━━━━━━━━━━\u001b[0m\u001b[37m\u001b[0m \u001b[1m0s\u001b[0m 68ms/step\n"
     ]
    },
    {
     "data": {
      "text/html": [
       "<div>\n",
       "<style scoped>\n",
       "    .dataframe tbody tr th:only-of-type {\n",
       "        vertical-align: middle;\n",
       "    }\n",
       "\n",
       "    .dataframe tbody tr th {\n",
       "        vertical-align: top;\n",
       "    }\n",
       "\n",
       "    .dataframe thead th {\n",
       "        text-align: right;\n",
       "    }\n",
       "</style>\n",
       "<table border=\"1\" class=\"dataframe\">\n",
       "  <thead>\n",
       "    <tr style=\"text-align: right;\">\n",
       "      <th></th>\n",
       "      <th>Sentence</th>\n",
       "      <th>Prediction</th>\n",
       "      <th>Label</th>\n",
       "    </tr>\n",
       "  </thead>\n",
       "  <tbody>\n",
       "    <tr>\n",
       "      <th>0</th>\n",
       "      <td>I absolutely loved the film!</td>\n",
       "      <td>0.568925</td>\n",
       "      <td>positive</td>\n",
       "    </tr>\n",
       "    <tr>\n",
       "      <th>1</th>\n",
       "      <td>This was the worst experience ever.</td>\n",
       "      <td>0.211382</td>\n",
       "      <td>negative</td>\n",
       "    </tr>\n",
       "    <tr>\n",
       "      <th>2</th>\n",
       "      <td>The plot was interesting but the ending was di...</td>\n",
       "      <td>0.221133</td>\n",
       "      <td>negative</td>\n",
       "    </tr>\n",
       "    <tr>\n",
       "      <th>3</th>\n",
       "      <td>Amazing performance by the lead actor!</td>\n",
       "      <td>0.534820</td>\n",
       "      <td>positive</td>\n",
       "    </tr>\n",
       "    <tr>\n",
       "      <th>4</th>\n",
       "      <td>I wouldn't recommend this to anyone.</td>\n",
       "      <td>0.466203</td>\n",
       "      <td>negative</td>\n",
       "    </tr>\n",
       "    <tr>\n",
       "      <th>5</th>\n",
       "      <td>It was okay, nothing special.</td>\n",
       "      <td>0.306480</td>\n",
       "      <td>negative</td>\n",
       "    </tr>\n",
       "  </tbody>\n",
       "</table>\n",
       "</div>"
      ],
      "text/plain": [
       "                                            Sentence  Prediction     Label\n",
       "0                       I absolutely loved the film!    0.568925  positive\n",
       "1                This was the worst experience ever.    0.211382  negative\n",
       "2  The plot was interesting but the ending was di...    0.221133  negative\n",
       "3             Amazing performance by the lead actor!    0.534820  positive\n",
       "4               I wouldn't recommend this to anyone.    0.466203  negative\n",
       "5                      It was okay, nothing special.    0.306480  negative"
      ]
     },
     "execution_count": 158,
     "metadata": {},
     "output_type": "execute_result"
    }
   ],
   "source": [
    "sample_sentences = [\n",
    "    \"I absolutely loved the film!\",\n",
    "    \"This was the worst experience ever.\",\n",
    "    \"The plot was interesting but the ending was disappointing.\",\n",
    "    \"Amazing performance by the lead actor!\",\n",
    "    \"I wouldn't recommend this to anyone.\",\n",
    "    \"It was okay, nothing special.\"\n",
    "]\n",
    "\n",
    "#Vectorize and scale\n",
    "sample_vec = vectorizer.transform(sample_sentences).toarray() / 16.0\n",
    "\n",
    "#predicting\n",
    "predictions = model.predict(sample_vec)\n",
    "\n",
    "#table\n",
    "results = pd.DataFrame({\n",
    "    \"Sentence\": sample_sentences,\n",
    "    \"Prediction\": predictions.flatten(),\n",
    "    \"Label\": [\"positive\" if p > 0.5 else \"negative\" for p in predictions.flatten()]\n",
    "})\n",
    "\n",
    "results"
   ]
  },
  {
   "cell_type": "markdown",
   "id": "6401e5cb-92ad-4b71-8ec1-fd1a05e8406b",
   "metadata": {},
   "source": [
    "The model correctly classified clearly positive and negative sentences. Strong sentiments were accurately labeled, while more neutral phrases tended to be classified as negative. However, the positive predictions were close to the threshold. This suggests the model is somewhat cautious with positive classifications. Overall, the model generalizes well to new inputs."
   ]
  },
  {
   "cell_type": "code",
   "execution_count": null,
   "id": "ddf27216-2b9a-489f-bb7f-aa9765b64367",
   "metadata": {},
   "outputs": [],
   "source": []
  }
 ],
 "metadata": {
  "kernelspec": {
   "display_name": "base",
   "language": "python",
   "name": "python3"
  },
  "language_info": {
   "codemirror_mode": {
    "name": "ipython",
    "version": 3
   },
   "file_extension": ".py",
   "mimetype": "text/x-python",
   "name": "python",
   "nbconvert_exporter": "python",
   "pygments_lexer": "ipython3",
   "version": "3.12.4"
  }
 },
 "nbformat": 4,
 "nbformat_minor": 5
}
